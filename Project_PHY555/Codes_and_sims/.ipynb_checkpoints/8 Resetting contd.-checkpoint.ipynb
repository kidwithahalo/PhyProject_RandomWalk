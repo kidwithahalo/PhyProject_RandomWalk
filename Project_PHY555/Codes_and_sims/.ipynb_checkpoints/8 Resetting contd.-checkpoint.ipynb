{
 "cells": [
  {
   "cell_type": "markdown",
   "id": "3838658a",
   "metadata": {},
   "source": [
    "## Asytmetric Walker"
   ]
  },
  {
   "cell_type": "code",
   "execution_count": 1,
   "id": "dca1a96b",
   "metadata": {},
   "outputs": [],
   "source": [
    "\n",
    "import numpy as np\n",
    "from scipy import stats\n",
    "import random\n",
    "import matplotlib.pyplot as plt\n",
    "\n",
    "global x\n",
    "x = 0 \n",
    "\n",
    "def random_walk(n):\n",
    "    x_1 = 0\n",
    "    # particle postioned at x = 0\n",
    "    for i in range(n):\n",
    "        step = round(random.random(),2)\n",
    "        # steps being randomly assigned either +ve or -ve\n",
    "        if step <= 0.40:\n",
    "            x_1 = x\n",
    "        elif step > 0.60:\n",
    "            zeta = np.random.choice([-1,1])\n",
    "            if zeta == -1:\n",
    "                x_1 = x_1 - 1 \n",
    "            else:\n",
    "                x_1 = x_1 + 1\n",
    "    return (x_1)"
   ]
  },
  {
   "cell_type": "code",
   "execution_count": 2,
   "id": "0fcf091c",
   "metadata": {},
   "outputs": [
    {
     "name": "stdout",
     "output_type": "stream",
     "text": [
      "DescribeResult(nobs=30000, minmax=(-7, 7), mean=-0.0012333333333333332, variance=0.9861980188228499, skewness=0.09518391522505223, kurtosis=3.726654600694671)\n"
     ]
    }
   ],
   "source": [
    "number_of_walk = 30000\n",
    "walk_length = 10\n",
    "position = []\n",
    "position10 = position\n",
    "# length of walk defines how much steps can body take\n",
    "\n",
    "for i in range(number_of_walk):\n",
    "    walk = random_walk(walk_length)\n",
    "#     (walk, \"Distance from origin = \", abs(walk))\n",
    "    position.append(walk)\n",
    "\n",
    "print(stats.describe(position))\n",
    "\n"
   ]
  },
  {
   "cell_type": "code",
   "execution_count": 3,
   "id": "08b568ce",
   "metadata": {},
   "outputs": [
    {
     "name": "stdout",
     "output_type": "stream",
     "text": [
      "DescribeResult(nobs=30000, minmax=(-6, 6), mean=-0.013633333333333334, variance=0.9644796148760514, skewness=-0.08550394943094712, kurtosis=3.7798537114807713)\n"
     ]
    }
   ],
   "source": [
    "number_of_walk = 30000\n",
    "walk_length = 20\n",
    "position = []\n",
    "position20 = position\n",
    "# length of walk defines how much steps can body take\n",
    "\n",
    "for i in range(number_of_walk):\n",
    "    walk = random_walk(walk_length)\n",
    "#     (walk, \"Distance from origin = \", abs(walk))\n",
    "    position.append(walk)\n",
    "\n",
    "print(stats.describe(position))\n"
   ]
  },
  {
   "cell_type": "code",
   "execution_count": 4,
   "id": "44de2e8b",
   "metadata": {},
   "outputs": [
    {
     "name": "stdout",
     "output_type": "stream",
     "text": [
      "DescribeResult(nobs=30000, minmax=(-8, 7), mean=-0.0065, variance=0.9700234174472483, skewness=-0.09440222085902264, kurtosis=4.053634442541323)\n"
     ]
    }
   ],
   "source": [
    "number_of_walk = 30000\n",
    "walk_length = 50\n",
    "position = []\n",
    "position50 = position\n",
    "# length of walk defines how much steps can body take\n",
    "\n",
    "for i in range(number_of_walk):\n",
    "    walk = random_walk(walk_length)\n",
    "#     (walk, \"Distance from origin = \", abs(walk))\n",
    "    position.append(walk)\n",
    "\n",
    "print(stats.describe(position))\n",
    "\n"
   ]
  },
  {
   "cell_type": "code",
   "execution_count": 5,
   "id": "23578bfc",
   "metadata": {},
   "outputs": [
    {
     "name": "stdout",
     "output_type": "stream",
     "text": [
      "DescribeResult(nobs=30000, minmax=(-8, 7), mean=0.0076, variance=0.9921086436214541, skewness=-0.004877625613820802, kurtosis=4.002071129589373)\n"
     ]
    }
   ],
   "source": [
    "number_of_walk = 30000\n",
    "walk_length = 100\n",
    "position = []\n",
    "position100 = position\n",
    "# length of walk defines how much steps can body take\n",
    "\n",
    "for i in range(number_of_walk):\n",
    "    walk = random_walk(walk_length)\n",
    "#     (walk, \"Distance from origin = \", abs(walk))\n",
    "    position.append(walk)\n",
    "\n",
    "print(stats.describe(position))\n",
    "\n"
   ]
  },
  {
   "cell_type": "code",
   "execution_count": null,
   "id": "fc819190",
   "metadata": {},
   "outputs": [],
   "source": []
  },
  {
   "cell_type": "code",
   "execution_count": null,
   "id": "903d904b",
   "metadata": {},
   "outputs": [],
   "source": [
    "number_of_walk = 30000\n",
    "walk_length = 200\n",
    "position = []\n",
    "position200 = position\n",
    "# length of walk defines how much steps can body take\n",
    "\n",
    "for i in range(number_of_walk):\n",
    "    walk = random_walk(walk_length)\n",
    "#     (walk, \"Distance from origin = \", abs(walk))\n",
    "    position.append(walk)\n",
    "\n",
    "print(stats.describe(position))\n",
    "\n"
   ]
  },
  {
   "cell_type": "code",
   "execution_count": 12,
   "id": "ab1e9de8",
   "metadata": {},
   "outputs": [
    {
     "name": "stdout",
     "output_type": "stream",
     "text": [
      "DescribeResult(nobs=30000, minmax=(-7, 7), mean=0.005566666666666667, variance=0.9743681578274831, skewness=0.06976342915441296, kurtosis=3.7098811004187233)\n"
     ]
    }
   ],
   "source": [
    "number_of_walk = 30000\n",
    "walk_length = 500\n",
    "position = []\n",
    "position500 = position\n",
    "# length of walk defines how much steps can body take\n",
    "\n",
    "for i in range(number_of_walk):\n",
    "    walk = random_walk(walk_length)\n",
    "#     (walk, \"Distance from origin = \", abs(walk))\n",
    "    position.append(walk)\n",
    "\n",
    "print(stats.describe(position))\n",
    "\n"
   ]
  },
  {
   "cell_type": "code",
   "execution_count": 13,
   "id": "4b610cab",
   "metadata": {},
   "outputs": [
    {
     "name": "stdout",
     "output_type": "stream",
     "text": [
      "DescribeResult(nobs=30000, minmax=(-7, 7), mean=0.003033333333333333, variance=0.9619895318732847, skewness=-0.020901828656081145, kurtosis=3.8087426418006327)\n"
     ]
    }
   ],
   "source": [
    "number_of_walk = 30000\n",
    "walk_length = 1000\n",
    "position = []\n",
    "position1000 = position\n",
    "# length of walk defines how much steps can body take\n",
    "\n",
    "for i in range(number_of_walk):\n",
    "    walk = random_walk(walk_length)\n",
    "#     (walk, \"Distance from origin = \", abs(walk))\n",
    "    position.append(walk)\n",
    "\n",
    "print(stats.describe(position))\n",
    "\n"
   ]
  },
  {
   "cell_type": "code",
   "execution_count": null,
   "id": "123fefdc",
   "metadata": {},
   "outputs": [],
   "source": [
    "number_of_walk = 30000\n",
    "walk_length = 1500\n",
    "position = [] \n",
    "position1500 = position\n",
    "# length of walk defines how much steps can body take\n",
    "\n",
    "for i in range(number_of_walk):\n",
    "    walk = random_walk(walk_length)\n",
    "#     (walk, \"Distance from origin = \", abs(walk))\n",
    "    position.append(walk)\n",
    "\n",
    "print(stats.describe(position))"
   ]
  },
  {
   "cell_type": "code",
   "execution_count": 14,
   "id": "799680c4",
   "metadata": {},
   "outputs": [
    {
     "name": "stdout",
     "output_type": "stream",
     "text": [
      "DescribeResult(nobs=30000, minmax=(-7, 7), mean=0.004166666666666667, variance=0.9425140560240898, skewness=0.023154208370176614, kurtosis=3.865057398207246)\n"
     ]
    }
   ],
   "source": [
    "number_of_walk = 30000\n",
    "walk_length = 2000\n",
    "position = [] \n",
    "position2000 = position\n",
    "# length of walk defines how much steps can body take\n",
    "\n",
    "for i in range(number_of_walk):\n",
    "    walk = random_walk(walk_length)\n",
    "#     (walk, \"Distance from origin = \", abs(walk))\n",
    "    position.append(walk)\n",
    "\n",
    "print(stats.describe(position))"
   ]
  },
  {
   "cell_type": "code",
   "execution_count": null,
   "id": "95c0fbd5",
   "metadata": {},
   "outputs": [],
   "source": [
    "number_of_walk = 30000\n",
    "walk_length = 3000\n",
    "position = [] \n",
    "position3000 = position\n",
    "# length of walk defines how much steps can body take\n",
    "\n",
    "for i in range(number_of_walk):\n",
    "    walk = random_walk(walk_length)\n",
    "#     (walk, \"Distance from origin = \", abs(walk))\n",
    "    position.append(walk)\n",
    "\n",
    "print(stats.describe(position))"
   ]
  },
  {
   "cell_type": "code",
   "execution_count": null,
   "id": "fe86a7c8",
   "metadata": {},
   "outputs": [],
   "source": [
    "number_of_walk = 300000\n",
    "walk_length = 5000\n",
    "position = [] \n",
    "position5000 = position\n",
    "# length of walk defines how much steps can body take\n",
    "\n",
    "for i in range(number_of_walk):\n",
    "    walk = random_walk(walk_length)\n",
    "#     (walk, \"Distance from origin = \", abs(walk))\n",
    "    position.append(walk)\n",
    "\n",
    "print(stats.describe(position))"
   ]
  },
  {
   "cell_type": "code",
   "execution_count": null,
   "id": "70981927",
   "metadata": {},
   "outputs": [],
   "source": [
    "number_of_walk = 300000\n",
    "walk_length = 8000\n",
    "position = [] \n",
    "position8000 = position\n",
    "# length of walk defines how much steps can body take\n",
    "\n",
    "for i in range(number_of_walk):\n",
    "    walk = random_walk(walk_length)\n",
    "#     (walk, \"Distance from origin = \", abs(walk))\n",
    "    position.append(walk)\n",
    "\n",
    "print(stats.describe(position))"
   ]
  },
  {
   "cell_type": "code",
   "execution_count": null,
   "id": "b7a05664",
   "metadata": {},
   "outputs": [],
   "source": []
  },
  {
   "cell_type": "code",
   "execution_count": null,
   "id": "a31e32a3",
   "metadata": {},
   "outputs": [],
   "source": []
  },
  {
   "cell_type": "code",
   "execution_count": null,
   "id": "b8e535c5",
   "metadata": {
    "scrolled": false
   },
   "outputs": [],
   "source": [
    "from scipy import stats\n",
    "import numpy as np\n",
    "import matplotlib.pyplot as plt\n",
    "import seaborn as sns\n",
    "import pandas as pd\n",
    "\n",
    "\n",
    "df10 = pd.DataFrame(position10, columns=['position'])\n",
    "df20 = pd.DataFrame(position20, columns=['position'])\n",
    "df50 = pd.DataFrame(position50, columns=['position'])\n",
    "df100 = pd.DataFrame(position100, columns=['position'])\n",
    "df200 = pd.DataFrame(position200, columns=['position'])\n",
    "df500 = pd.DataFrame(position500, columns=['position'])\n",
    "df1000 = pd.DataFrame(position1000, columns=['position'])\n",
    "df1500 = pd.DataFrame(position1500, columns=['position'])\n",
    "df2000 = pd.DataFrame(position2000, columns=['position'])\n",
    "df3000 = pd.DataFrame(position3000, columns=['position'])\n",
    "df5000 = pd.DataFrame(position5000, columns=['position'])\n",
    "df8000 = pd.DataFrame(position8000, columns=['position'])\n",
    "\n",
    "fig,ax1 = plt.subplots(dpi=500)\n",
    "sns.kdeplot(data=df10,x='position',ax=ax1,c='k', label = '10')\n",
    "sns.kdeplot(data=df20,x='position',ax=ax1,c='g', label = '20')\n",
    "sns.kdeplot(data=df50,x='position',ax=ax1,c='b' ,label = '50')\n",
    "sns.kdeplot(data=df100,x='position',ax=ax1,c='cyan', label = '100')\n",
    "sns.kdeplot(data=df200,x='position',ax=ax1,c='magenta', label = '200')\n",
    "sns.kdeplot(data=df500,x='position',ax=ax1,c='pink', label = '500')\n",
    "sns.kdeplot(data=df1000,x='position',ax=ax1,c='teal', label = '1000')\n",
    "sns.kdeplot(data=df1500,x='position',ax=ax1,c='violet' ,label = '1500')\n",
    "sns.kdeplot(data=df2000,x='position',ax=ax1,c='yellow', label = '2000')\n",
    "sns.kdeplot(data=df3000,x='position',ax=ax1,c='hotpink' ,label = '3000')\n",
    "sns.kdeplot(data=df5000,x='position',ax=ax1,c='thistle', label = '5000')\n",
    "sns.kdeplot(data=df8000,x='position',ax=ax1, label = '8000')\n",
    "\n",
    "plt.style.use('fast')\n",
    "plt.xlim(-20,80)\n",
    "plt.legend(fontsize = 5)\n",
    "plt.show()"
   ]
  },
  {
   "cell_type": "code",
   "execution_count": null,
   "id": "6c3d047d",
   "metadata": {},
   "outputs": [],
   "source": []
  },
  {
   "cell_type": "markdown",
   "id": "dd2e1cb0",
   "metadata": {},
   "source": [
    "## Symmetric walker"
   ]
  },
  {
   "cell_type": "code",
   "execution_count": null,
   "id": "28060a56",
   "metadata": {},
   "outputs": [],
   "source": [
    "\n",
    "import numpy as np\n",
    "from scipy import stats\n",
    "import random\n",
    "import matplotlib.pyplot as plt\n",
    "\n",
    "global x\n",
    "x = 0 \n",
    "\n",
    "def random_walk(n):\n",
    "    x_1 = 0\n",
    "    # particle postioned at x = 0\n",
    "    for i in range(n):\n",
    "        step = round(random.random(),2)\n",
    "        # steps being randomly assigned either +ve or -ve\n",
    "        if step <= 0.50:\n",
    "            x_1 = x\n",
    "        elif step > 0.50:\n",
    "            zeta = np.random.choice([-1,1])\n",
    "            if zeta == -1:\n",
    "                x_1 = x_1 - 1 \n",
    "            else:\n",
    "                x_1 = x_1 + 1\n",
    "    return (x_1)"
   ]
  },
  {
   "cell_type": "code",
   "execution_count": null,
   "id": "34f4fb08",
   "metadata": {},
   "outputs": [],
   "source": [
    "number_of_walk = 300000\n",
    "walk_length = 10\n",
    "position = []\n",
    "position_sym10 = position\n",
    "# length of walk defines how much steps can body take\n",
    "\n",
    "for i in range(number_of_walk):\n",
    "    walk = random_walk(walk_length)\n",
    "#     (walk, \"Distance from origin = \", abs(walk))\n",
    "    position.append(walk)\n",
    "\n",
    "print(stats.describe(position))\n",
    "\n"
   ]
  },
  {
   "cell_type": "code",
   "execution_count": null,
   "id": "1fa83f29",
   "metadata": {},
   "outputs": [],
   "source": [
    "number_of_walk = 300000\n",
    "walk_length = 20\n",
    "position = []\n",
    "position_sym20 = position\n",
    "# length of walk defines how much steps can body take\n",
    "\n",
    "for i in range(number_of_walk):\n",
    "    walk = random_walk(walk_length)\n",
    "#     (walk, \"Distance from origin = \", abs(walk))\n",
    "    position.append(walk)\n",
    "\n",
    "print(stats.describe(position))\n"
   ]
  },
  {
   "cell_type": "code",
   "execution_count": null,
   "id": "6b274d31",
   "metadata": {},
   "outputs": [],
   "source": [
    "number_of_walk = 300000\n",
    "walk_length = 50\n",
    "position = []\n",
    "position_sym50 = position\n",
    "# length of walk defines how much steps can body take\n",
    "\n",
    "for i in range(number_of_walk):\n",
    "    walk = random_walk(walk_length)\n",
    "#     (walk, \"Distance from origin = \", abs(walk))\n",
    "    position.append(walk)\n",
    "\n",
    "print(stats.describe(position))\n",
    "\n"
   ]
  },
  {
   "cell_type": "code",
   "execution_count": null,
   "id": "cf41b18a",
   "metadata": {},
   "outputs": [],
   "source": [
    "number_of_walk = 300000\n",
    "walk_length = 100\n",
    "position = []\n",
    "position_sym100 = position\n",
    "# length of walk defines how much steps can body take\n",
    "\n",
    "for i in range(number_of_walk):\n",
    "    walk = random_walk(walk_length)\n",
    "#     (walk, \"Distance from origin = \", abs(walk))\n",
    "    position.append(walk)\n",
    "\n",
    "print(stats.describe(position))\n",
    "\n"
   ]
  },
  {
   "cell_type": "code",
   "execution_count": null,
   "id": "8c99e9e0",
   "metadata": {},
   "outputs": [],
   "source": [
    "number_of_walk = 300000\n",
    "walk_length = 200\n",
    "position = []\n",
    "position_sym200 = position\n",
    "# length of walk defines how much steps can body take\n",
    "\n",
    "for i in range(number_of_walk):\n",
    "    walk = random_walk(walk_length)\n",
    "#     (walk, \"Distance from origin = \", abs(walk))\n",
    "    position.append(walk)\n",
    "\n",
    "print(stats.describe(position))\n",
    "\n"
   ]
  },
  {
   "cell_type": "code",
   "execution_count": null,
   "id": "a9fc985a",
   "metadata": {},
   "outputs": [],
   "source": [
    "number_of_walk = 300000\n",
    "walk_length = 500\n",
    "position = []\n",
    "position_sym500 = position\n",
    "# length of walk defines how much steps can body take\n",
    "\n",
    "for i in range(number_of_walk):\n",
    "    walk = random_walk(walk_length)\n",
    "#     (walk, \"Distance from origin = \", abs(walk))\n",
    "    position.append(walk)\n",
    "\n",
    "print(stats.describe(position))\n",
    "\n"
   ]
  },
  {
   "cell_type": "code",
   "execution_count": null,
   "id": "7afda2ff",
   "metadata": {},
   "outputs": [],
   "source": [
    "number_of_walk = 300000\n",
    "walk_length = 1000\n",
    "position = []\n",
    "position_sym1000 = position\n",
    "# length of walk defines how much steps can body take\n",
    "\n",
    "for i in range(number_of_walk):\n",
    "    walk = random_walk(walk_length)\n",
    "#     (walk, \"Distance from origin = \", abs(walk))\n",
    "    position.append(walk)\n",
    "\n",
    "print(stats.describe(position))\n",
    "\n"
   ]
  },
  {
   "cell_type": "code",
   "execution_count": null,
   "id": "f052b021",
   "metadata": {},
   "outputs": [],
   "source": [
    "number_of_walk = 300000\n",
    "walk_length = 1500\n",
    "position = []\n",
    "position_sym1500 = position\n",
    "# length of walk defines how much steps can body take\n",
    "\n",
    "for i in range(number_of_walk):\n",
    "    walk = random_walk(walk_length)\n",
    "#     (walk, \"Distance from origin = \", abs(walk))\n",
    "    position.append(walk)\n",
    "\n",
    "print(stats.describe(position))\n",
    "\n"
   ]
  },
  {
   "cell_type": "code",
   "execution_count": null,
   "id": "41e81241",
   "metadata": {},
   "outputs": [],
   "source": [
    "number_of_walk = 300000\n",
    "walk_length = 2000\n",
    "position = []\n",
    "position_sym2000 = position\n",
    "# length of walk defines how much steps can body take\n",
    "\n",
    "for i in range(number_of_walk):\n",
    "    walk = random_walk(walk_length)\n",
    "#     (walk, \"Distance from origin = \", abs(walk))\n",
    "    position.append(walk)\n",
    "\n",
    "print(stats.describe(position))\n",
    "\n"
   ]
  },
  {
   "cell_type": "code",
   "execution_count": null,
   "id": "080008a3",
   "metadata": {},
   "outputs": [],
   "source": [
    "number_of_walk = 300000\n",
    "walk_length = 3000\n",
    "position = []\n",
    "position_sym3000 = position\n",
    "# length of walk defines how much steps can body take\n",
    "\n",
    "for i in range(number_of_walk):\n",
    "    walk = random_walk(walk_length)\n",
    "#     (walk, \"Distance from origin = \", abs(walk))\n",
    "    position.append(walk)\n",
    "\n",
    "print(stats.describe(position))\n",
    "\n"
   ]
  },
  {
   "cell_type": "code",
   "execution_count": null,
   "id": "6e50f835",
   "metadata": {},
   "outputs": [],
   "source": [
    "number_of_walk = 300000\n",
    "walk_length = 5000\n",
    "position = []\n",
    "position_sym5000 = position\n",
    "# length of walk defines how much steps can body take\n",
    "\n",
    "for i in range(number_of_walk):\n",
    "    walk = random_walk(walk_length)\n",
    "#     (walk, \"Distance from origin = \", abs(walk))\n",
    "    position.append(walk)\n",
    "\n",
    "print(stats.describe(position))\n",
    "\n"
   ]
  },
  {
   "cell_type": "code",
   "execution_count": null,
   "id": "3c6c50a9",
   "metadata": {},
   "outputs": [],
   "source": [
    "number_of_walk = 300000\n",
    "walk_length = 8000\n",
    "position = []\n",
    "position_sym8000 = position\n",
    "# length of walk defines how much steps can body take\n",
    "\n",
    "for i in range(number_of_walk):\n",
    "    walk = random_walk(walk_length)\n",
    "#     (walk, \"Distance from origin = \", abs(walk))\n",
    "    position.append(walk)\n",
    "\n",
    "print(stats.describe(position))\n",
    "\n"
   ]
  },
  {
   "cell_type": "code",
   "execution_count": null,
   "id": "48b8605a",
   "metadata": {
    "scrolled": false
   },
   "outputs": [],
   "source": [
    "from scipy import stats\n",
    "import numpy as np\n",
    "import matplotlib.pyplot as plt\n",
    "import seaborn as sns\n",
    "import pandas as pd\n",
    "\n",
    "\n",
    "df10 = pd.DataFrame(position_sym10, columns=['position'])\n",
    "df20 = pd.DataFrame(position_sym20, columns=['position'])\n",
    "df50 = pd.DataFrame(position_sym50, columns=['position'])\n",
    "df100 = pd.DataFrame(position_sym100, columns=['position'])\n",
    "df200 = pd.DataFrame(position_sym200, columns=['position'])\n",
    "df500 = pd.DataFrame(position_sym500, columns=['position'])\n",
    "df1000 = pd.DataFrame(position_sym1000, columns=['position'])\n",
    "df1500 = pd.DataFrame(position_sym1500, columns=['position'])\n",
    "df2000 = pd.DataFrame(position_sym2000, columns=['position'])\n",
    "df3000 = pd.DataFrame(position_sym3000, columns=['position'])\n",
    "df5000 = pd.DataFrame(position_sym5000, columns=['position'])\n",
    "df8000 = pd.DataFrame(position_sym8000, columns=['position'])\n",
    "\n",
    "fig,ax1 = plt.subplots(dpi=500)\n",
    "sns.kdeplot(data=df10,x='position',ax=ax1, label = '10', linewidth = 1)\n",
    "sns.kdeplot(data=df20,x='position',ax=ax1, label = '20', linewidth = 1)\n",
    "sns.kdeplot(data=df50,x='position',ax=ax1, label = '50', linewidth = 1)\n",
    "sns.kdeplot(data=df100,x='position',ax=ax1, label = '100', linewidth = 1)\n",
    "sns.kdeplot(data=df200,x='position',ax=ax1, label = '200', linewidth = 1)\n",
    "sns.kdeplot(data=df500,x='position',ax=ax1, label = '500', linewidth = 1)\n",
    "sns.kdeplot(data=df1000,x='position',ax=ax1, label = '1000', linewidth = 1)\n",
    "sns.kdeplot(data=df1500,x='position',ax=ax1, label = '1500', linewidth = 1)\n",
    "sns.kdeplot(data=df2000,x='position',ax=ax1, label = '2000', linewidth = 1)\n",
    "sns.kdeplot(data=df3000,x='position',ax=ax1, label = '3000', linewidth = 1)\n",
    "sns.kdeplot(data=df5000,x='position',ax=ax1, label = '5000', linewidth = 1)\n",
    "sns.kdeplot(data=df8000,x='position',ax=ax1, label = '8000', linewidth = 1)\n",
    "\n",
    "plt.style.use('seaborn-pastel')\n",
    "# ax1.set_xlim(-15,25)\n",
    "# ax2 = ax1.twinx()\n",
    "# ax1.text(-14,0.11,s=r'$\\mu \\Rightarrow N(p-q)$ = 6',bbox=dict(facecolor='red', alpha=0.5))\n",
    "\n",
    "# sns.histplot(data=df10, x='position',discrete=True,ax=ax2, color='k', alpha = 0.2, label = '30')\n",
    "# sns.histplot(data=df20, x='position',discrete=True,ax=ax2, color='k', alpha = 0.2, label = '30')\n",
    "plt.legend(fontsize = 9)\n",
    "plt.show()"
   ]
  },
  {
   "cell_type": "code",
   "execution_count": null,
   "id": "6674d9b9",
   "metadata": {},
   "outputs": [],
   "source": []
  },
  {
   "cell_type": "markdown",
   "id": "f13634d7",
   "metadata": {},
   "source": [
    "## First and second moment"
   ]
  },
  {
   "cell_type": "code",
   "execution_count": null,
   "id": "3772bc31",
   "metadata": {},
   "outputs": [],
   "source": []
  },
  {
   "cell_type": "code",
   "execution_count": null,
   "id": "30ff32db",
   "metadata": {},
   "outputs": [],
   "source": []
  },
  {
   "cell_type": "code",
   "execution_count": null,
   "id": "f6fc7d08",
   "metadata": {},
   "outputs": [],
   "source": [
    "import numpy as np\n",
    "import matplotlib.pyplot as plt\n",
    "\n",
    "walkers = 300000 # Example for 50 walkers\n",
    "path = []\n",
    "steps = 11\n",
    "for walker in range(walkers):\n",
    "    walker_path=[0]\n",
    "    position = 0\n",
    "    for i in range(1, steps):\n",
    "        step = round(random.random(),2)\n",
    "        # steps being randomly assigned either +ve or -ve\n",
    "        if step <= 0.50:\n",
    "            x_1 = x\n",
    "        elif step > 0.50:\n",
    "            zeta = np.random.choice([-1,1])\n",
    "            if zeta == -1:\n",
    "                x_1 = x_1 - 1 \n",
    "            else:\n",
    "                x_1 = x_1 + 1\n",
    "    return (x_1)\n",
    "        walker_path.append(position)\n",
    "    path.append(walker_path)\n",
    "path = np.array(path)\n",
    "\n",
    "# returns a vector of MSDs from a given path\n",
    "msd = [(path[:, i]**2).(np.var()) for i in range(1, steps)] \n",
    "# you could also put range(1, len(path[0]))\n",
    "\n",
    "pos = [1,2,3,4,5,6,7,8,9,10]\n",
    "plt.scatter(pos, msd, c ='g')\n",
    "plt.plot(pos, msd ,c = 'r')\n",
    "plt.ylabel(\"mean displacement\")\n",
    "plt.xlabel(\"walk\")\n",
    "plt.title(\"MSD , 3x10e5 walks\")\n",
    "plt.grid\n",
    "plt.show()"
   ]
  }
 ],
 "metadata": {
  "kernelspec": {
   "display_name": "Python 3 (ipykernel)",
   "language": "python",
   "name": "python3"
  },
  "language_info": {
   "codemirror_mode": {
    "name": "ipython",
    "version": 3
   },
   "file_extension": ".py",
   "mimetype": "text/x-python",
   "name": "python",
   "nbconvert_exporter": "python",
   "pygments_lexer": "ipython3",
   "version": "3.8.11"
  }
 },
 "nbformat": 4,
 "nbformat_minor": 5
}
